{
 "cells": [
  {
   "cell_type": "code",
   "execution_count": 3,
   "metadata": {},
   "outputs": [],
   "source": [
    "import pandas as pd\n",
    "import numpy as np\n",
    "\n",
    "from catboost import CatBoostClassifier\n",
    "from sklearn.model_selection import train_test_split\n",
    "from sklearn.model_selection import StratifiedKFold\n",
    "from sklearn.preprocessing import LabelEncoder\n",
    "\n",
    "import gc"
   ]
  },
  {
   "cell_type": "code",
   "execution_count": 4,
   "metadata": {},
   "outputs": [],
   "source": [
    "train = pd.read_pickle(\"../data/train_agg.pkl\",compression = \"gzip\")\n",
    "test = pd.read_pickle(\"../data/test_agg.pkl\",compression = \"gzip\")"
   ]
  },
  {
   "cell_type": "markdown",
   "metadata": {},
   "source": [
    "### 범주형 변수 분류"
   ]
  },
  {
   "cell_type": "code",
   "execution_count": 5,
   "metadata": {},
   "outputs": [],
   "source": [
    "cat_features = [\n",
    "    \"B_30\",\n",
    "    \"B_38\",\n",
    "    \"D_114\",\n",
    "    \"D_116\",\n",
    "    \"D_117\",\n",
    "    \"D_120\",\n",
    "    \"D_126\",\n",
    "    \"D_63\",\n",
    "    \"D_64\",\n",
    "    \"D_66\",\n",
    "    \"D_68\"\n",
    "]\n",
    "cat_features = [f\"{cf}_last\" for cf in cat_features]\n",
    "label_en = LabelEncoder()\n",
    "for cf in cat_features: ### 두개의 63 64 last 값 category-> 라벨 인코딩\n",
    "    train[cf] = label_en.fit_transform(train[cf])\n",
    "    test[cf] = label_en.fit_transform(test[cf])"
   ]
  },
  {
   "cell_type": "markdown",
   "metadata": {},
   "source": [
    "### 데이터 분류"
   ]
  },
  {
   "cell_type": "code",
   "execution_count": 6,
   "metadata": {},
   "outputs": [],
   "source": [
    "X = train.drop('target',axis = 1)\n",
    "y = train[\"target\"]"
   ]
  },
  {
   "cell_type": "code",
   "execution_count": 7,
   "metadata": {},
   "outputs": [],
   "source": [
    "x1, x2, y1, y2 = train_test_split(X, y, random_state=2022)"
   ]
  },
  {
   "cell_type": "markdown",
   "metadata": {},
   "source": [
    "### 모델 학습"
   ]
  },
  {
   "cell_type": "code",
   "execution_count": 8,
   "metadata": {},
   "outputs": [
    {
     "name": "stdout",
     "output_type": "stream",
     "text": [
      "Learning rate set to 0.066595\n",
      "0:\tlearn: 0.6164535\ttest: 0.6162028\tbest: 0.6162028 (0)\ttotal: 423ms\tremaining: 35m 13s\n",
      "50:\tlearn: 0.2379742\ttest: 0.2368111\tbest: 0.2368111 (50)\ttotal: 19.1s\tremaining: 30m 48s\n",
      "100:\tlearn: 0.2283090\ttest: 0.2279880\tbest: 0.2279880 (100)\ttotal: 37.6s\tremaining: 30m 23s\n",
      "150:\tlearn: 0.2242458\ttest: 0.2247777\tbest: 0.2247777 (150)\ttotal: 56.5s\tremaining: 30m 14s\n",
      "200:\tlearn: 0.2211917\ttest: 0.2226610\tbest: 0.2226610 (200)\ttotal: 1m 15s\tremaining: 29m 52s\n",
      "250:\tlearn: 0.2184978\ttest: 0.2211792\tbest: 0.2211792 (250)\ttotal: 1m 33s\tremaining: 29m 21s\n",
      "300:\tlearn: 0.2161886\ttest: 0.2202339\tbest: 0.2202339 (300)\ttotal: 1m 51s\tremaining: 28m 56s\n",
      "350:\tlearn: 0.2141665\ttest: 0.2195701\tbest: 0.2195701 (350)\ttotal: 2m 9s\tremaining: 28m 32s\n",
      "400:\tlearn: 0.2123434\ttest: 0.2191675\tbest: 0.2191675 (400)\ttotal: 2m 26s\tremaining: 28m 4s\n",
      "450:\tlearn: 0.2106073\ttest: 0.2187503\tbest: 0.2187503 (450)\ttotal: 2m 44s\tremaining: 27m 42s\n",
      "500:\tlearn: 0.2088656\ttest: 0.2184223\tbest: 0.2184223 (500)\ttotal: 3m 3s\tremaining: 27m 24s\n",
      "550:\tlearn: 0.2072635\ttest: 0.2182126\tbest: 0.2182126 (550)\ttotal: 3m 20s\tremaining: 27m\n",
      "600:\tlearn: 0.2056917\ttest: 0.2179991\tbest: 0.2179991 (600)\ttotal: 3m 38s\tremaining: 26m 41s\n",
      "650:\tlearn: 0.2041811\ttest: 0.2178192\tbest: 0.2178192 (650)\ttotal: 3m 56s\tremaining: 26m 21s\n",
      "700:\tlearn: 0.2027038\ttest: 0.2177125\tbest: 0.2177125 (700)\ttotal: 4m 14s\tremaining: 26m 2s\n",
      "750:\tlearn: 0.2012318\ttest: 0.2175675\tbest: 0.2175675 (750)\ttotal: 4m 32s\tremaining: 25m 39s\n",
      "800:\tlearn: 0.1997997\ttest: 0.2174513\tbest: 0.2174513 (800)\ttotal: 4m 49s\tremaining: 25m 19s\n",
      "850:\tlearn: 0.1984473\ttest: 0.2173996\tbest: 0.2173947 (847)\ttotal: 5m 6s\tremaining: 24m 56s\n",
      "900:\tlearn: 0.1970846\ttest: 0.2172885\tbest: 0.2172885 (900)\ttotal: 5m 24s\tremaining: 24m 35s\n",
      "950:\tlearn: 0.1958191\ttest: 0.2172515\tbest: 0.2172456 (944)\ttotal: 5m 41s\tremaining: 24m 12s\n",
      "1000:\tlearn: 0.1944792\ttest: 0.2171628\tbest: 0.2171628 (1000)\ttotal: 5m 58s\tremaining: 23m 52s\n",
      "1050:\tlearn: 0.1931951\ttest: 0.2171045\tbest: 0.2170793 (1023)\ttotal: 6m 15s\tremaining: 23m 31s\n",
      "1100:\tlearn: 0.1918497\ttest: 0.2170464\tbest: 0.2170464 (1100)\ttotal: 6m 32s\tremaining: 23m 10s\n",
      "1150:\tlearn: 0.1906100\ttest: 0.2170030\tbest: 0.2170030 (1150)\ttotal: 6m 49s\tremaining: 22m 51s\n",
      "1200:\tlearn: 0.1893353\ttest: 0.2169525\tbest: 0.2169477 (1185)\ttotal: 7m 6s\tremaining: 22m 30s\n",
      "1250:\tlearn: 0.1882261\ttest: 0.2169407\tbest: 0.2169407 (1250)\ttotal: 7m 23s\tremaining: 22m 8s\n",
      "1300:\tlearn: 0.1870448\ttest: 0.2169431\tbest: 0.2169343 (1294)\ttotal: 7m 40s\tremaining: 21m 48s\n",
      "1350:\tlearn: 0.1858183\ttest: 0.2169541\tbest: 0.2169343 (1294)\ttotal: 7m 57s\tremaining: 21m 29s\n",
      "1400:\tlearn: 0.1846368\ttest: 0.2169876\tbest: 0.2169328 (1372)\ttotal: 8m 14s\tremaining: 21m 9s\n",
      "1450:\tlearn: 0.1834713\ttest: 0.2169297\tbest: 0.2169272 (1437)\ttotal: 8m 32s\tremaining: 20m 54s\n",
      "1500:\tlearn: 0.1822810\ttest: 0.2169048\tbest: 0.2169048 (1500)\ttotal: 8m 49s\tremaining: 20m 35s\n",
      "1550:\tlearn: 0.1811759\ttest: 0.2168968\tbest: 0.2168968 (1550)\ttotal: 9m 6s\tremaining: 20m 15s\n",
      "1600:\tlearn: 0.1800017\ttest: 0.2168571\tbest: 0.2168571 (1600)\ttotal: 9m 23s\tremaining: 19m 57s\n",
      "1650:\tlearn: 0.1788638\ttest: 0.2168523\tbest: 0.2168377 (1642)\ttotal: 9m 40s\tremaining: 19m 37s\n",
      "1700:\tlearn: 0.1777557\ttest: 0.2168313\tbest: 0.2168238 (1698)\ttotal: 9m 58s\tremaining: 19m 20s\n",
      "1750:\tlearn: 0.1766236\ttest: 0.2167990\tbest: 0.2167973 (1745)\ttotal: 10m 15s\tremaining: 19m 2s\n",
      "1800:\tlearn: 0.1755298\ttest: 0.2168228\tbest: 0.2167887 (1769)\ttotal: 10m 33s\tremaining: 18m 45s\n",
      "1850:\tlearn: 0.1744299\ttest: 0.2168384\tbest: 0.2167887 (1769)\ttotal: 10m 51s\tremaining: 18m 29s\n",
      "1900:\tlearn: 0.1733166\ttest: 0.2168322\tbest: 0.2167887 (1769)\ttotal: 11m 8s\tremaining: 18m 10s\n",
      "1950:\tlearn: 0.1722575\ttest: 0.2168597\tbest: 0.2167887 (1769)\ttotal: 11m 26s\tremaining: 17m 52s\n",
      "2000:\tlearn: 0.1712160\ttest: 0.2168980\tbest: 0.2167887 (1769)\ttotal: 11m 43s\tremaining: 17m 33s\n",
      "2050:\tlearn: 0.1701621\ttest: 0.2169420\tbest: 0.2167887 (1769)\ttotal: 12m\tremaining: 17m 15s\n",
      "2100:\tlearn: 0.1691127\ttest: 0.2169450\tbest: 0.2167887 (1769)\ttotal: 12m 17s\tremaining: 16m 57s\n",
      "2150:\tlearn: 0.1680721\ttest: 0.2169547\tbest: 0.2167887 (1769)\ttotal: 12m 34s\tremaining: 16m 39s\n",
      "2200:\tlearn: 0.1670064\ttest: 0.2169353\tbest: 0.2167887 (1769)\ttotal: 12m 51s\tremaining: 16m 21s\n",
      "2250:\tlearn: 0.1659833\ttest: 0.2169580\tbest: 0.2167887 (1769)\ttotal: 13m 8s\tremaining: 16m 3s\n",
      "2300:\tlearn: 0.1650126\ttest: 0.2169867\tbest: 0.2167887 (1769)\ttotal: 13m 25s\tremaining: 15m 45s\n",
      "2350:\tlearn: 0.1639985\ttest: 0.2170271\tbest: 0.2167887 (1769)\ttotal: 13m 43s\tremaining: 15m 27s\n",
      "2400:\tlearn: 0.1630069\ttest: 0.2170499\tbest: 0.2167887 (1769)\ttotal: 14m 1s\tremaining: 15m 11s\n",
      "2450:\tlearn: 0.1619873\ttest: 0.2170535\tbest: 0.2167887 (1769)\ttotal: 14m 19s\tremaining: 14m 53s\n",
      "2500:\tlearn: 0.1609813\ttest: 0.2170987\tbest: 0.2167887 (1769)\ttotal: 14m 36s\tremaining: 14m 35s\n",
      "2550:\tlearn: 0.1600269\ttest: 0.2171203\tbest: 0.2167887 (1769)\ttotal: 14m 53s\tremaining: 14m 17s\n",
      "2600:\tlearn: 0.1591135\ttest: 0.2171723\tbest: 0.2167887 (1769)\ttotal: 15m 10s\tremaining: 13m 59s\n",
      "2650:\tlearn: 0.1581613\ttest: 0.2171977\tbest: 0.2167887 (1769)\ttotal: 15m 26s\tremaining: 13m 41s\n",
      "2700:\tlearn: 0.1572310\ttest: 0.2172132\tbest: 0.2167887 (1769)\ttotal: 15m 43s\tremaining: 13m 23s\n",
      "2750:\tlearn: 0.1562585\ttest: 0.2172310\tbest: 0.2167887 (1769)\ttotal: 16m 1s\tremaining: 13m 5s\n",
      "2800:\tlearn: 0.1552902\ttest: 0.2172654\tbest: 0.2167887 (1769)\ttotal: 16m 18s\tremaining: 12m 48s\n",
      "2850:\tlearn: 0.1543975\ttest: 0.2172812\tbest: 0.2167887 (1769)\ttotal: 16m 36s\tremaining: 12m 30s\n",
      "2900:\tlearn: 0.1534620\ttest: 0.2172961\tbest: 0.2167887 (1769)\ttotal: 16m 54s\tremaining: 12m 13s\n",
      "2950:\tlearn: 0.1524907\ttest: 0.2173025\tbest: 0.2167887 (1769)\ttotal: 17m 12s\tremaining: 11m 56s\n",
      "3000:\tlearn: 0.1515597\ttest: 0.2173015\tbest: 0.2167887 (1769)\ttotal: 17m 29s\tremaining: 11m 39s\n",
      "3050:\tlearn: 0.1506849\ttest: 0.2173271\tbest: 0.2167887 (1769)\ttotal: 17m 46s\tremaining: 11m 21s\n",
      "3100:\tlearn: 0.1497582\ttest: 0.2173425\tbest: 0.2167887 (1769)\ttotal: 18m 4s\tremaining: 11m 4s\n",
      "3150:\tlearn: 0.1488423\ttest: 0.2173684\tbest: 0.2167887 (1769)\ttotal: 18m 21s\tremaining: 10m 46s\n",
      "3200:\tlearn: 0.1479867\ttest: 0.2174334\tbest: 0.2167887 (1769)\ttotal: 18m 38s\tremaining: 10m 28s\n",
      "3250:\tlearn: 0.1470859\ttest: 0.2174553\tbest: 0.2167887 (1769)\ttotal: 18m 56s\tremaining: 10m 11s\n",
      "3300:\tlearn: 0.1462418\ttest: 0.2174596\tbest: 0.2167887 (1769)\ttotal: 19m 13s\tremaining: 9m 53s\n",
      "3350:\tlearn: 0.1453484\ttest: 0.2175253\tbest: 0.2167887 (1769)\ttotal: 19m 30s\tremaining: 9m 36s\n",
      "3400:\tlearn: 0.1444856\ttest: 0.2175278\tbest: 0.2167887 (1769)\ttotal: 19m 47s\tremaining: 9m 18s\n",
      "3450:\tlearn: 0.1436087\ttest: 0.2175497\tbest: 0.2167887 (1769)\ttotal: 20m 5s\tremaining: 9m 1s\n",
      "3500:\tlearn: 0.1427477\ttest: 0.2175907\tbest: 0.2167887 (1769)\ttotal: 20m 22s\tremaining: 8m 43s\n",
      "3550:\tlearn: 0.1419323\ttest: 0.2176801\tbest: 0.2167887 (1769)\ttotal: 20m 39s\tremaining: 8m 25s\n",
      "3600:\tlearn: 0.1411079\ttest: 0.2177347\tbest: 0.2167887 (1769)\ttotal: 20m 57s\tremaining: 8m 8s\n",
      "3650:\tlearn: 0.1402971\ttest: 0.2177709\tbest: 0.2167887 (1769)\ttotal: 21m 14s\tremaining: 7m 51s\n",
      "3700:\tlearn: 0.1394618\ttest: 0.2178079\tbest: 0.2167887 (1769)\ttotal: 21m 32s\tremaining: 7m 33s\n",
      "3750:\tlearn: 0.1386608\ttest: 0.2178026\tbest: 0.2167887 (1769)\ttotal: 21m 49s\tremaining: 7m 16s\n",
      "3800:\tlearn: 0.1378317\ttest: 0.2178158\tbest: 0.2167887 (1769)\ttotal: 22m 6s\tremaining: 6m 58s\n",
      "3850:\tlearn: 0.1370257\ttest: 0.2178402\tbest: 0.2167887 (1769)\ttotal: 22m 23s\tremaining: 6m 40s\n",
      "3900:\tlearn: 0.1361833\ttest: 0.2178718\tbest: 0.2167887 (1769)\ttotal: 22m 41s\tremaining: 6m 23s\n",
      "3950:\tlearn: 0.1353867\ttest: 0.2179528\tbest: 0.2167887 (1769)\ttotal: 22m 58s\tremaining: 6m 6s\n",
      "4000:\tlearn: 0.1346016\ttest: 0.2180042\tbest: 0.2167887 (1769)\ttotal: 23m 15s\tremaining: 5m 48s\n",
      "4050:\tlearn: 0.1338525\ttest: 0.2180112\tbest: 0.2167887 (1769)\ttotal: 23m 32s\tremaining: 5m 30s\n",
      "4100:\tlearn: 0.1330753\ttest: 0.2180277\tbest: 0.2167887 (1769)\ttotal: 23m 49s\tremaining: 5m 13s\n",
      "4150:\tlearn: 0.1323026\ttest: 0.2180761\tbest: 0.2167887 (1769)\ttotal: 24m 7s\tremaining: 4m 55s\n",
      "4200:\tlearn: 0.1315693\ttest: 0.2181238\tbest: 0.2167887 (1769)\ttotal: 24m 25s\tremaining: 4m 38s\n",
      "4250:\tlearn: 0.1308034\ttest: 0.2181132\tbest: 0.2167887 (1769)\ttotal: 24m 43s\tremaining: 4m 21s\n",
      "4300:\tlearn: 0.1300479\ttest: 0.2181955\tbest: 0.2167887 (1769)\ttotal: 25m\tremaining: 4m 3s\n",
      "4350:\tlearn: 0.1293117\ttest: 0.2182302\tbest: 0.2167887 (1769)\ttotal: 25m 17s\tremaining: 3m 46s\n",
      "4400:\tlearn: 0.1285678\ttest: 0.2182569\tbest: 0.2167887 (1769)\ttotal: 25m 34s\tremaining: 3m 28s\n",
      "4450:\tlearn: 0.1278230\ttest: 0.2182866\tbest: 0.2167887 (1769)\ttotal: 25m 51s\tremaining: 3m 11s\n",
      "4500:\tlearn: 0.1271130\ttest: 0.2183259\tbest: 0.2167887 (1769)\ttotal: 26m 9s\tremaining: 2m 53s\n",
      "4550:\tlearn: 0.1263664\ttest: 0.2183818\tbest: 0.2167887 (1769)\ttotal: 26m 27s\tremaining: 2m 36s\n",
      "4600:\tlearn: 0.1256409\ttest: 0.2184411\tbest: 0.2167887 (1769)\ttotal: 26m 44s\tremaining: 2m 19s\n",
      "4650:\tlearn: 0.1249386\ttest: 0.2185010\tbest: 0.2167887 (1769)\ttotal: 27m 1s\tremaining: 2m 1s\n",
      "4700:\tlearn: 0.1242405\ttest: 0.2185577\tbest: 0.2167887 (1769)\ttotal: 27m 18s\tremaining: 1m 44s\n",
      "4750:\tlearn: 0.1235314\ttest: 0.2186710\tbest: 0.2167887 (1769)\ttotal: 27m 35s\tremaining: 1m 26s\n",
      "4800:\tlearn: 0.1228557\ttest: 0.2186928\tbest: 0.2167887 (1769)\ttotal: 27m 52s\tremaining: 1m 9s\n",
      "4850:\tlearn: 0.1221625\ttest: 0.2187098\tbest: 0.2167887 (1769)\ttotal: 28m 9s\tremaining: 51.9s\n",
      "4900:\tlearn: 0.1214429\ttest: 0.2187577\tbest: 0.2167887 (1769)\ttotal: 28m 27s\tremaining: 34.5s\n",
      "4950:\tlearn: 0.1207766\ttest: 0.2187876\tbest: 0.2167887 (1769)\ttotal: 28m 45s\tremaining: 17.1s\n",
      "4999:\tlearn: 0.1201041\ttest: 0.2188259\tbest: 0.2167887 (1769)\ttotal: 29m 2s\tremaining: 0us\n",
      "\n",
      "bestTest = 0.2167887295\n",
      "bestIteration = 1769\n",
      "\n",
      "Shrink model to first 1770 iterations.\n"
     ]
    }
   ],
   "source": [
    "clf = CatBoostClassifier(iterations=5000, random_state=2022, nan_mode='Min')\n",
    "clf.fit(x1, y1, eval_set=[(x2, y2)], cat_features=cat_features,  verbose=50)\n",
    "preds = clf.predict_proba(x2)[:, 1]"
   ]
  },
  {
   "cell_type": "markdown",
   "metadata": {},
   "source": [
    "### 데이터 추출"
   ]
  },
  {
   "cell_type": "code",
   "execution_count": 9,
   "metadata": {},
   "outputs": [],
   "source": [
    "sub = pd.read_csv(\"../data/amex-default-prediction/sample_submission.csv\")"
   ]
  },
  {
   "cell_type": "code",
   "execution_count": 10,
   "metadata": {},
   "outputs": [],
   "source": [
    "y_preds = np.zeros(test.shape[0])\n",
    "y_preds_ = np.zeros(test.shape[0])\n",
    "y_preds = clf.predict_proba(test)[:, 1]\n",
    "y_preds_ = sub['prediction'].to_numpy()\n",
    "cust_id = sub['customer_ID'].to_numpy()\n",
    "blend_preds = (y_preds_ * 0.955 + y_preds * 0.045)"
   ]
  },
  {
   "cell_type": "code",
   "execution_count": 12,
   "metadata": {},
   "outputs": [],
   "source": [
    "test[\"prediction\"] = blend_preds\n",
    "test[\"prediction\"].to_csv(f\"submission4.csv\", index=True)"
   ]
  }
 ],
 "metadata": {
  "kernelspec": {
   "display_name": "Python 3.8.13 ('tf20')",
   "language": "python",
   "name": "python3"
  },
  "language_info": {
   "codemirror_mode": {
    "name": "ipython",
    "version": 3
   },
   "file_extension": ".py",
   "mimetype": "text/x-python",
   "name": "python",
   "nbconvert_exporter": "python",
   "pygments_lexer": "ipython3",
   "version": "3.8.13"
  },
  "orig_nbformat": 4,
  "vscode": {
   "interpreter": {
    "hash": "f5074f6d7ab1655b9cadc2914a062f74fdaf0b851b971cc20197b009da84e7df"
   }
  }
 },
 "nbformat": 4,
 "nbformat_minor": 2
}
