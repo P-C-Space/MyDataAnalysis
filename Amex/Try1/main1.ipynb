{
 "cells": [
  {
   "cell_type": "code",
   "execution_count": 6,
   "metadata": {},
   "outputs": [],
   "source": [
    "import pandas as pd\n",
    "import numpy as np\n",
    "from catboost import CatBoostClassifier\n",
    "from sklearn.model_selection import train_test_split\n",
    "from sklearn.preprocessing import LabelEncoder\n",
    "import gc"
   ]
  },
  {
   "cell_type": "code",
   "execution_count": 7,
   "metadata": {},
   "outputs": [],
   "source": [
    "train = pd.read_pickle(\"../data/train_agg.pkl\",compression = \"gzip\")\n",
    "test = pd.read_pickle(\"../data/test_agg.pkl\",compression = \"gzip\")"
   ]
  },
  {
   "cell_type": "code",
   "execution_count": 16,
   "metadata": {},
   "outputs": [],
   "source": [
    "sub = pd.read_csv(\"../data/amex-default-prediction/sample_submission.csv\")"
   ]
  },
  {
   "cell_type": "code",
   "execution_count": 8,
   "metadata": {},
   "outputs": [
    {
     "name": "stdout",
     "output_type": "stream",
     "text": [
      "<class 'pandas.core.frame.DataFrame'>\n",
      "CategoricalIndex: 458913 entries, 0000099d6bd597052cdcda90ffabf56573fe9d7c79be5fbac11a8ed792feb62a to fffff1d38b785cef84adeace64f8f83db3a0c31e8d92eaba8b115f71cab04681\n",
      "Columns: 919 entries, P_2_mean to target\n",
      "dtypes: category(2), float16(713), float64(178), int64(22), int8(4)\n",
      "memory usage: 1.3 GB\n"
     ]
    }
   ],
   "source": [
    "train.info()"
   ]
  },
  {
   "cell_type": "code",
   "execution_count": 9,
   "metadata": {},
   "outputs": [],
   "source": [
    "features = test.columns.to_list()\n",
    "cat_features = [\n",
    "    \"B_30\",\n",
    "    \"B_38\",\n",
    "    \"D_114\",\n",
    "    \"D_116\",\n",
    "    \"D_117\",\n",
    "    \"D_120\",\n",
    "    \"D_126\",\n",
    "    \"D_63\",\n",
    "    \"D_64\",\n",
    "    \"D_66\",\n",
    "    \"D_68\"\n",
    "]\n",
    "cat_features = [f\"{cf}_last\" for cf in cat_features]\n",
    "le_encoder = LabelEncoder()\n",
    "for categorical_feature in cat_features:\n",
    "    train[categorical_feature] = le_encoder.fit_transform(train[categorical_feature])\n",
    "    test[categorical_feature] = le_encoder.transform(test[categorical_feature])\n"
   ]
  },
  {
   "cell_type": "code",
   "execution_count": 11,
   "metadata": {},
   "outputs": [],
   "source": [
    "train_y = pd.DataFrame(train[\"target\"])\n",
    "train_x = train.drop(\"target\", axis=1)\n",
    "del train\n",
    "_ = gc.collect()"
   ]
  },
  {
   "cell_type": "code",
   "execution_count": 12,
   "metadata": {},
   "outputs": [],
   "source": [
    "x1, x2, y1, y2 = train_test_split(train_x, train_y, test_size=0.20, random_state=22)"
   ]
  },
  {
   "cell_type": "code",
   "execution_count": 13,
   "metadata": {},
   "outputs": [
    {
     "name": "stdout",
     "output_type": "stream",
     "text": [
      "Learning rate set to 0.136276\n",
      "0:\tlearn: 0.5426635\ttest: 0.5422141\tbest: 0.5422141 (0)\ttotal: 585ms\tremaining: 9m 44s\n",
      "50:\tlearn: 0.2278892\ttest: 0.2288582\tbest: 0.2288582 (50)\ttotal: 22.4s\tremaining: 6m 56s\n",
      "100:\tlearn: 0.2209364\ttest: 0.2237507\tbest: 0.2237507 (100)\ttotal: 42.2s\tremaining: 6m 15s\n",
      "150:\tlearn: 0.2161837\ttest: 0.2215877\tbest: 0.2215877 (150)\ttotal: 1m 1s\tremaining: 5m 48s\n",
      "200:\tlearn: 0.2125496\ttest: 0.2206460\tbest: 0.2206424 (199)\ttotal: 1m 21s\tremaining: 5m 22s\n",
      "250:\tlearn: 0.2091853\ttest: 0.2200191\tbest: 0.2200191 (250)\ttotal: 1m 41s\tremaining: 5m 3s\n",
      "300:\tlearn: 0.2061737\ttest: 0.2195578\tbest: 0.2195578 (300)\ttotal: 2m 1s\tremaining: 4m 42s\n",
      "350:\tlearn: 0.2033721\ttest: 0.2193876\tbest: 0.2193854 (347)\ttotal: 2m 20s\tremaining: 4m 20s\n",
      "400:\tlearn: 0.2006759\ttest: 0.2193602\tbest: 0.2193328 (399)\ttotal: 2m 40s\tremaining: 3m 59s\n",
      "450:\tlearn: 0.1980507\ttest: 0.2192304\tbest: 0.2192122 (433)\ttotal: 2m 59s\tremaining: 3m 38s\n",
      "500:\tlearn: 0.1954722\ttest: 0.2192762\tbest: 0.2192094 (452)\ttotal: 3m 19s\tremaining: 3m 18s\n",
      "550:\tlearn: 0.1929875\ttest: 0.2193224\tbest: 0.2192094 (452)\ttotal: 3m 38s\tremaining: 2m 57s\n",
      "600:\tlearn: 0.1906348\ttest: 0.2193606\tbest: 0.2192094 (452)\ttotal: 3m 57s\tremaining: 2m 37s\n",
      "650:\tlearn: 0.1884126\ttest: 0.2195030\tbest: 0.2192094 (452)\ttotal: 4m 16s\tremaining: 2m 17s\n",
      "700:\tlearn: 0.1860301\ttest: 0.2194884\tbest: 0.2192094 (452)\ttotal: 4m 35s\tremaining: 1m 57s\n",
      "750:\tlearn: 0.1838010\ttest: 0.2195451\tbest: 0.2192094 (452)\ttotal: 4m 55s\tremaining: 1m 37s\n",
      "800:\tlearn: 0.1816144\ttest: 0.2196094\tbest: 0.2192094 (452)\ttotal: 5m 14s\tremaining: 1m 18s\n",
      "850:\tlearn: 0.1793411\ttest: 0.2196483\tbest: 0.2192094 (452)\ttotal: 5m 34s\tremaining: 58.5s\n",
      "900:\tlearn: 0.1771908\ttest: 0.2195927\tbest: 0.2192094 (452)\ttotal: 5m 53s\tremaining: 38.8s\n",
      "950:\tlearn: 0.1750960\ttest: 0.2197331\tbest: 0.2192094 (452)\ttotal: 6m 12s\tremaining: 19.2s\n",
      "999:\tlearn: 0.1730412\ttest: 0.2198073\tbest: 0.2192094 (452)\ttotal: 6m 31s\tremaining: 0us\n",
      "\n",
      "bestTest = 0.2192093782\n",
      "bestIteration = 452\n",
      "\n",
      "Shrink model to first 453 iterations.\n"
     ]
    }
   ],
   "source": [
    "clf = CatBoostClassifier(iterations=1000, random_state=22, nan_mode='Min')\n",
    "clf.fit(x1, y1, eval_set=[(x2, y2)], cat_features=cat_features,  verbose=50)\n",
    "preds = clf.predict_proba(x2)[:, 1]"
   ]
  },
  {
   "cell_type": "code",
   "execution_count": 14,
   "metadata": {},
   "outputs": [],
   "source": [
    "del x1,x2,y1,y2,train_x,train_y\n",
    "_ = gc.collect()"
   ]
  },
  {
   "cell_type": "code",
   "execution_count": 17,
   "metadata": {},
   "outputs": [],
   "source": [
    "y_preds = np.zeros(test.shape[0])\n",
    "y_preds_ = np.zeros(test.shape[0])\n",
    "y_preds = clf.predict_proba(test)[:, 1]\n",
    "y_preds_ = sub['prediction'].to_numpy()\n",
    "cust_id = sub['customer_ID'].to_numpy()\n",
    "blend_preds = (y_preds_ * 0.955 + y_preds * 0.045)"
   ]
  },
  {
   "cell_type": "code",
   "execution_count": 18,
   "metadata": {},
   "outputs": [
    {
     "name": "stderr",
     "output_type": "stream",
     "text": [
      "C:\\Users\\JeongWoo\\AppData\\Local\\Temp\\ipykernel_24572\\3358240415.py:1: PerformanceWarning: DataFrame is highly fragmented.  This is usually the result of calling `frame.insert` many times, which has poor performance.  Consider joining all columns at once using pd.concat(axis=1) instead. To get a de-fragmented frame, use `newframe = frame.copy()`\n",
      "  test[\"prediction\"] = blend_preds\n"
     ]
    }
   ],
   "source": [
    "test[\"prediction\"] = blend_preds\n",
    "test[\"prediction\"].to_csv(f\"submission1.csv\", index=True)"
   ]
  }
 ],
 "metadata": {
  "kernelspec": {
   "display_name": "Python 3.8.13 ('tf20')",
   "language": "python",
   "name": "python3"
  },
  "language_info": {
   "codemirror_mode": {
    "name": "ipython",
    "version": 3
   },
   "file_extension": ".py",
   "mimetype": "text/x-python",
   "name": "python",
   "nbconvert_exporter": "python",
   "pygments_lexer": "ipython3",
   "version": "3.8.13 | packaged by conda-forge | (default, Mar 25 2022, 05:59:00) [MSC v.1929 64 bit (AMD64)]"
  },
  "orig_nbformat": 4,
  "vscode": {
   "interpreter": {
    "hash": "f5074f6d7ab1655b9cadc2914a062f74fdaf0b851b971cc20197b009da84e7df"
   }
  }
 },
 "nbformat": 4,
 "nbformat_minor": 2
}
