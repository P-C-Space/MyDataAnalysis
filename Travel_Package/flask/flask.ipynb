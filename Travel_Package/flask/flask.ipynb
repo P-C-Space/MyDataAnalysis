{
 "cells": [
  {
   "cell_type": "code",
   "execution_count": 1,
   "metadata": {},
   "outputs": [],
   "source": [
    "import pandas as pd\n",
    "import numpy as np\n",
    "import pickle\n",
    "\n",
    "import sklearn as sk\n",
    "import flask\n",
    "\n",
    "from sklearn.preprocessing import LabelEncoder\n",
    "from sklearn.ensemble import RandomForestClassifier\n",
    "from sklearn.ensemble import GradientBoostingClassifier\n",
    "\n",
    "from sklearn.model_selection import train_test_split\n",
    "from sklearn.model_selection import cross_val_score\n",
    "\n",
    "path = \"C:\\\\Users\\\\JeongWoo\\\\Desktop\\\\MydataAnalysis\\\\Travel_Package\\\\\""
   ]
  },
  {
   "cell_type": "code",
   "execution_count": 2,
   "metadata": {},
   "outputs": [],
   "source": [
    "train = pd.read_csv(path+\"data\\\\train.csv\")\n",
    "test = pd.read_csv(path+\"data\\\\test.csv\")"
   ]
  },
  {
   "cell_type": "code",
   "execution_count": 3,
   "metadata": {},
   "outputs": [
    {
     "name": "stdout",
     "output_type": "stream",
     "text": [
      "<class 'pandas.core.frame.DataFrame'>\n",
      "RangeIndex: 1955 entries, 0 to 1954\n",
      "Data columns (total 20 columns):\n",
      " #   Column                    Non-Null Count  Dtype  \n",
      "---  ------                    --------------  -----  \n",
      " 0   id                        1955 non-null   int64  \n",
      " 1   Age                       1861 non-null   float64\n",
      " 2   TypeofContact             1945 non-null   object \n",
      " 3   CityTier                  1955 non-null   int64  \n",
      " 4   DurationOfPitch           1853 non-null   float64\n",
      " 5   Occupation                1955 non-null   object \n",
      " 6   Gender                    1955 non-null   object \n",
      " 7   NumberOfPersonVisiting    1955 non-null   int64  \n",
      " 8   NumberOfFollowups         1942 non-null   float64\n",
      " 9   ProductPitched            1955 non-null   object \n",
      " 10  PreferredPropertyStar     1945 non-null   float64\n",
      " 11  MaritalStatus             1955 non-null   object \n",
      " 12  NumberOfTrips             1898 non-null   float64\n",
      " 13  Passport                  1955 non-null   int64  \n",
      " 14  PitchSatisfactionScore    1955 non-null   int64  \n",
      " 15  OwnCar                    1955 non-null   int64  \n",
      " 16  NumberOfChildrenVisiting  1928 non-null   float64\n",
      " 17  Designation               1955 non-null   object \n",
      " 18  MonthlyIncome             1855 non-null   float64\n",
      " 19  ProdTaken                 1955 non-null   int64  \n",
      "dtypes: float64(7), int64(7), object(6)\n",
      "memory usage: 305.6+ KB\n"
     ]
    }
   ],
   "source": [
    "train.info()"
   ]
  },
  {
   "cell_type": "code",
   "execution_count": 4,
   "metadata": {},
   "outputs": [],
   "source": [
    "sel = [\"CityTier\",\"NumberOfPersonVisiting\",\"OwnCar\"]"
   ]
  },
  {
   "cell_type": "code",
   "execution_count": 5,
   "metadata": {},
   "outputs": [],
   "source": [
    "X = train[sel]\n",
    "y = train.ProdTaken"
   ]
  },
  {
   "cell_type": "code",
   "execution_count": 6,
   "metadata": {},
   "outputs": [],
   "source": [
    "X_train, X_test, y_train, y_test = train_test_split(X, y, stratify = train.ProdTaken, random_state=42)"
   ]
  },
  {
   "cell_type": "code",
   "execution_count": 7,
   "metadata": {},
   "outputs": [
    {
     "name": "stdout",
     "output_type": "stream",
     "text": [
      "교차 검증 점수(AUC) - rf :  0.4433098020123336\n",
      "학습용 :  0.8042291950886766\n",
      "테스트 용 :  0.803680981595092\n"
     ]
    }
   ],
   "source": [
    "model = GradientBoostingClassifier().fit(X_train,y_train)\n",
    "pred = model.predict(X_test)\n",
    "score = cross_val_score(model,X_test,y_test,cv=5,scoring='roc_auc')\n",
    "\n",
    "print(\"교차 검증 점수(AUC) - rf : \",np.mean(score))\n",
    "print(\"학습용 : \", model.score(X_train,y_train))\n",
    "print(\"테스트 용 : \", model.score(X_test,y_test))\n",
    "\n",
    "pickle.dump(model, open(path + \"flask\\\\model\\\\model.pkl\", 'wb'))"
   ]
  }
 ],
 "metadata": {
  "kernelspec": {
   "display_name": "Python 3.8.13 ('tf20')",
   "language": "python",
   "name": "python3"
  },
  "language_info": {
   "codemirror_mode": {
    "name": "ipython",
    "version": 3
   },
   "file_extension": ".py",
   "mimetype": "text/x-python",
   "name": "python",
   "nbconvert_exporter": "python",
   "pygments_lexer": "ipython3",
   "version": "3.8.13"
  },
  "orig_nbformat": 4,
  "vscode": {
   "interpreter": {
    "hash": "f5074f6d7ab1655b9cadc2914a062f74fdaf0b851b971cc20197b009da84e7df"
   }
  }
 },
 "nbformat": 4,
 "nbformat_minor": 2
}
